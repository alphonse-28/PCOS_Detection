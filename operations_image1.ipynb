{
 "cells": [
  {
   "cell_type": "code",
   "execution_count": 1,
   "id": "2375cf68",
   "metadata": {},
   "outputs": [
    {
     "name": "stdout",
     "output_type": "stream",
     "text": [
      "Requirement already satisfied: opencv-python in c:\\users\\bonyt\\appdata\\local\\programs\\python\\python312\\lib\\site-packages (4.9.0.80)\n",
      "Requirement already satisfied: numpy>=1.21.2 in c:\\users\\bonyt\\appdata\\local\\programs\\python\\python312\\lib\\site-packages (from opencv-python) (1.26.4)\n",
      "Note: you may need to restart the kernel to use updated packages.\n"
     ]
    }
   ],
   "source": [
    "pip install opencv-python"
   ]
  },
  {
   "cell_type": "code",
   "execution_count": 2,
   "id": "2962a131",
   "metadata": {},
   "outputs": [],
   "source": [
    "import cv2\n",
    "import numpy as np"
   ]
  },
  {
   "cell_type": "markdown",
   "id": "0937d7cc",
   "metadata": {},
   "source": [
    "# ARITHMETIC OPERATIONS"
   ]
  },
  {
   "cell_type": "code",
   "execution_count": 3,
   "id": "6deaaeeb",
   "metadata": {},
   "outputs": [
    {
     "data": {
      "text/plain": [
       "(286, 500, 3)"
      ]
     },
     "execution_count": 3,
     "metadata": {},
     "output_type": "execute_result"
    }
   ],
   "source": [
    "img1= cv2.imread(\"c:/Users/bonyt/OneDrive/Desktop/image proj/oper_img1.jpg\")\n",
    "img1.shape"
   ]
  },
  {
   "cell_type": "code",
   "execution_count": 4,
   "id": "c8c0a5a5",
   "metadata": {},
   "outputs": [],
   "source": [
    "resized_img1 = cv2.resize(img1, (300, 200))"
   ]
  },
  {
   "cell_type": "code",
   "execution_count": 5,
   "id": "8f4f902e",
   "metadata": {},
   "outputs": [
    {
     "data": {
      "text/plain": [
       "(428, 626, 3)"
      ]
     },
     "execution_count": 5,
     "metadata": {},
     "output_type": "execute_result"
    }
   ],
   "source": [
    "img2=cv2.imread(\"c:/Users/bonyt/OneDrive/Desktop/image proj/oper_img2.jpg\")\n",
    "img2.shape"
   ]
  },
  {
   "cell_type": "code",
   "execution_count": 6,
   "id": "3de7f8d7",
   "metadata": {},
   "outputs": [],
   "source": [
    "resized_img2 = cv2.resize(img2, (300, 200))"
   ]
  },
  {
   "cell_type": "code",
   "execution_count": 7,
   "id": "4ed3d3d8",
   "metadata": {},
   "outputs": [
    {
     "data": {
      "text/plain": [
       "True"
      ]
     },
     "execution_count": 7,
     "metadata": {},
     "output_type": "execute_result"
    }
   ],
   "source": [
    " #ADDITION\n",
    "# Step 2: Perform Arithmetic Operation\n",
    "result = cv2.add(resized_img1, resized_img2)  # Example: Addition\n",
    "\n",
    "# Step 3: Display or Save Result\n",
    "cv2.imshow('Result', result)\n",
    "cv2.waitKey(0)  # Wait for a key press\n",
    "cv2.destroyAllWindows()  # Close all windows\n",
    "\n",
    "# Alternatively, you can save the result to a file\n",
    "cv2.imwrite('result.jpg', result)  #"
   ]
  },
  {
   "cell_type": "code",
   "execution_count": 8,
   "id": "427ecabb",
   "metadata": {},
   "outputs": [
    {
     "data": {
      "text/plain": [
       "True"
      ]
     },
     "execution_count": 8,
     "metadata": {},
     "output_type": "execute_result"
    }
   ],
   "source": [
    "#SUBTRACTION \n",
    "result = cv2.subtract(resized_img1, resized_img2)  # Example: Addition\n",
    "\n",
    "# Step 3: Display or Save Result\n",
    "cv2.imshow('Result', result)\n",
    "cv2.waitKey(0)  # Wait for a key press\n",
    "cv2.destroyAllWindows()  # Close all windows\n",
    "\n",
    "# Alternatively, you can save the result to a file\n",
    "cv2.imwrite('result.jpg', result)"
   ]
  },
  {
   "cell_type": "code",
   "execution_count": 9,
   "id": "f8f053f0",
   "metadata": {},
   "outputs": [
    {
     "data": {
      "text/plain": [
       "True"
      ]
     },
     "execution_count": 9,
     "metadata": {},
     "output_type": "execute_result"
    }
   ],
   "source": [
    "#MULTIPLICATION\n",
    "result = cv2.multiply(resized_img1,resized_img2)  # Example: Addition\n",
    "\n",
    "# Step 3: Display or Save Result\n",
    "cv2.imshow('Result', result)\n",
    "cv2.waitKey(0)  # Wait for a key press\n",
    "cv2.destroyAllWindows()  # Close all windows\n",
    "\n",
    "# Alternatively, you can save the result to a file\n",
    "cv2.imwrite('result.jpg', result)"
   ]
  },
  {
   "cell_type": "code",
   "execution_count": 10,
   "id": "b5ef41b5",
   "metadata": {},
   "outputs": [
    {
     "data": {
      "text/plain": [
       "True"
      ]
     },
     "execution_count": 10,
     "metadata": {},
     "output_type": "execute_result"
    }
   ],
   "source": [
    "#DIVISION\n",
    "result = cv2.divide(resized_img1,resized_img2)  # Example: Addition\n",
    "\n",
    "# Step 3: Display or Save Result\n",
    "cv2.imshow('Result', result)\n",
    "cv2.waitKey(0)  # Wait for a key press\n",
    "cv2.destroyAllWindows()  # Close all windows\n",
    "\n",
    "# Alternatively, you can save the result to a file\n",
    "cv2.imwrite('result.jpg', result)"
   ]
  },
  {
   "cell_type": "markdown",
   "id": "bc4c87fb",
   "metadata": {},
   "source": [
    "# GEOMETRICAL OPERATIONS"
   ]
  },
  {
   "cell_type": "code",
   "execution_count": 11,
   "id": "5731513e",
   "metadata": {},
   "outputs": [],
   "source": [
    "#ROTATION\n",
    "import cv2\n",
    "\n",
    "# Load the image\n",
    "image = cv2.imread(\"c:/Users/bonyt/OneDrive/Desktop/image proj/oper_img1.jpg\")\n",
    "\n",
    "# Get the image dimensions\n",
    "height, width = image.shape[:2]\n",
    "\n",
    "# Define the rotation angle (in degrees)\n",
    "angle = 120\n",
    "\n",
    "# Calculate the rotation matrix\n",
    "rotation_matrix = cv2.getRotationMatrix2D((width/2, height/2), angle, 1)\n",
    "\n",
    "# Apply the rotation to the image\n",
    "rotated_image = cv2.warpAffine(image, rotation_matrix, (width, height))\n",
    "\n",
    "# Display the rotated image\n",
    "cv2.imshow('Rotated Image', rotated_image)\n",
    "cv2.waitKey(0)\n",
    "cv2.destroyAllWindows()\n"
   ]
  },
  {
   "cell_type": "code",
   "execution_count": 12,
   "id": "1809c085",
   "metadata": {},
   "outputs": [],
   "source": [
    "#SCALING\n",
    "import cv2\n",
    "\n",
    "# Load the image\n",
    "image = cv2.imread(\"c:/Users/bonyt/OneDrive/Desktop/image proj/oper_img2.jpg\")\n",
    "\n",
    "# Define scaling factors (scale x, scale y)\n",
    "scale_x = 1.0\n",
    "scale_y = 1.0\n",
    "\n",
    "# Resize the image\n",
    "scaled_image = cv2.resize(image, None, fx=scale_x, fy=scale_y)\n",
    "\n",
    "# Display the scaled image\n",
    "cv2.imshow('Scaled Image', scaled_image)\n",
    "cv2.waitKey(0)\n",
    "cv2.destroyAllWindows()\n"
   ]
  },
  {
   "cell_type": "code",
   "execution_count": 13,
   "id": "0d00e68e",
   "metadata": {},
   "outputs": [],
   "source": [
    "#TRANSLATION\n",
    "import cv2\n",
    "import numpy as np\n",
    "\n",
    "# Load the image\n",
    "image = cv2.imread(\"c:/Users/bonyt/OneDrive/Desktop/image proj/oper_img2.jpg\")\n",
    "\n",
    "# Define the translation matrix\n",
    "translation_matrix = np.float32([[1, 0, 50], [0, 1, 30]])  # Translate 50 pixels right and 30 pixels down\n",
    "\n",
    "# Apply the translation to the image\n",
    "translated_image = cv2.warpAffine(image, translation_matrix, (image.shape[1], image.shape[0]))\n",
    "\n",
    "# Display the translated image\n",
    "cv2.imshow('Translated Image', translated_image)\n",
    "cv2.waitKey(0)\n",
    "cv2.destroyAllWindows()\n"
   ]
  },
  {
   "cell_type": "code",
   "execution_count": 14,
   "id": "1f533efc",
   "metadata": {},
   "outputs": [],
   "source": [
    "#REFLECTION\n",
    "import cv2\n",
    "\n",
    "# Load the image\n",
    "image = cv2.imread(\"c:/Users/bonyt/OneDrive/Desktop/image proj/oper_img2.jpg\")\n",
    "\n",
    "# Check if the image is loaded successfully\n",
    "if image is None:\n",
    "    print(\"Error: Unable to load image.\")\n",
    "else:\n",
    "    # Flip the image horizontally (0), vertically (1), or both (-1)\n",
    "    reflected_image = cv2.flip(image, 1)\n",
    "\n",
    "    # Display the original and reflected images\n",
    "    cv2.imshow('Original Image', image)\n",
    "    cv2.imshow('Reflected Image', reflected_image)\n",
    "\n",
    "    # Wait for any key press to close the windows\n",
    "    cv2.waitKey(0)\n",
    "    cv2.destroyAllWindows()\n"
   ]
  },
  {
   "cell_type": "markdown",
   "id": "5f02c2e1",
   "metadata": {},
   "source": [
    "# MORPHOLOGICAL OPERATION"
   ]
  },
  {
   "cell_type": "code",
   "execution_count": 15,
   "id": "d2e1cf63",
   "metadata": {},
   "outputs": [],
   "source": [
    "import cv2\n",
    "import numpy as np\n",
    "\n",
    "# Read image as grayscale\n",
    "image = cv2.imread(\"c:/Users/bonyt/OneDrive/Desktop/image proj/oper_img2.jpg\")\n",
    "\n",
    "# Define a kernel\n",
    "kernel = np.ones((5,5), np.uint8)\n",
    "\n",
    "# Perform morphological operations\n",
    "erosion = cv2.erode(image, kernel, iterations=1)\n",
    "dilation = cv2.dilate(image, kernel, iterations=1)\n",
    "opening = cv2.morphologyEx(image, cv2.MORPH_OPEN, kernel)\n",
    "closing = cv2.morphologyEx(image, cv2.MORPH_CLOSE, kernel)\n",
    "#gradient = cv2.morphologyEx(image, cv2.MORPH_GRADIENT, kernel)\n",
    "#tophat = cv2.morphologyEx(image, cv2.MORPH_TOPHAT, kernel)\n",
    "#blackhat = cv2.morphologyEx(image, cv2.MORPH_BLACKHAT, kernel)\n",
    "\n",
    "# Display the results\n",
    "#cv2.imshow(\"Original\", image)\n",
    "cv2.imshow(\"Erosion\", erosion)\n",
    "cv2.imshow(\"Dilation\", dilation)\n",
    "cv2.imshow(\"Opening\", opening)\n",
    "cv2.imshow(\"Closing\", closing)\n",
    "#cv2.imshow(\"Gradient\", gradient)\n",
    "#cv2.imshow(\"Top Hat\", tophat)\n",
    "#cv2.imshow(\"Black Hat\", blackhat)\n",
    "cv2.waitKey(0)\n",
    "cv2.destroyAllWindows()"
   ]
  },
  {
   "cell_type": "markdown",
   "id": "360f0f75",
   "metadata": {},
   "source": [
    "# PIECE-WISE LINEAR TRANSFORMATION"
   ]
  },
  {
   "cell_type": "code",
   "execution_count": 16,
   "id": "8a3afb06",
   "metadata": {},
   "outputs": [],
   "source": [
    "import cv2\n",
    "import numpy as np\n",
    "\n",
    "# Read the image\n",
    "image = cv2.imread(\"c:/Users/bonyt/OneDrive/Desktop/image proj/oper_img2.jpg\")\n",
    "\n",
    "# Define the piece-wise transformation function\n",
    "def piecewise_transform(pixel_value):\n",
    "    # Apply different transformations based on pixel intensity\n",
    "    if pixel_value < 100:\n",
    "        return np.clip(1.5 * pixel_value, 0, 255)  # Increase brightness\n",
    "    else:\n",
    "        return np.clip(0.5 * pixel_value + 100, 0, 255)  # Increase contrast\n",
    "\n",
    "# Apply the piece-wise transformation element-wise to each pixel\n",
    "transformed_image = np.vectorize(piecewise_transform)(image)\n",
    "\n",
    "# Convert data type back to uint8\n",
    "transformed_image = transformed_image.astype(np.uint8)\n",
    "\n",
    "# Display the original and transformed images\n",
    "cv2.imshow('Original Image', image)\n",
    "cv2.imshow('Transformed Image', transformed_image)\n",
    "cv2.waitKey(0)\n",
    "cv2.destroyAllWindows()"
   ]
  },
  {
   "cell_type": "code",
   "execution_count": null,
   "id": "925b6629",
   "metadata": {},
   "outputs": [],
   "source": []
  }
 ],
 "metadata": {
  "kernelspec": {
   "display_name": "Python 3 (ipykernel)",
   "language": "python",
   "name": "python3"
  },
  "language_info": {
   "codemirror_mode": {
    "name": "ipython",
    "version": 3
   },
   "file_extension": ".py",
   "mimetype": "text/x-python",
   "name": "python",
   "nbconvert_exporter": "python",
   "pygments_lexer": "ipython3",
   "version": "3.12.3"
  }
 },
 "nbformat": 4,
 "nbformat_minor": 5
}
